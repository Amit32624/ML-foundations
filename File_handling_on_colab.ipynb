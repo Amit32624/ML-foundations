{
  "nbformat": 4,
  "nbformat_minor": 0,
  "metadata": {
    "colab": {
      "name": "File_handling_on_colab.ipynb",
      "provenance": [],
      "collapsed_sections": [
        "qlyaCf2vsvWU",
        "zr_xVjqmphWd",
        "o09Xhx85pruj"
      ],
      "authorship_tag": "ABX9TyPa4ss8jAIHZG2ogRe7pyRD",
      "include_colab_link": true
    },
    "kernelspec": {
      "name": "python3",
      "display_name": "Python 3"
    },
    "language_info": {
      "name": "python"
    }
  },
  "cells": [
    {
      "cell_type": "markdown",
      "metadata": {
        "id": "view-in-github",
        "colab_type": "text"
      },
      "source": [
        "<a href=\"https://colab.research.google.com/github/Amit32624/ML-foundations/blob/master/File_handling_on_colab.ipynb\" target=\"_parent\"><img src=\"https://colab.research.google.com/assets/colab-badge.svg\" alt=\"Open In Colab\"/></a>"
      ]
    },
    {
      "cell_type": "markdown",
      "metadata": {
        "id": "OwR_MPNOs3GY"
      },
      "source": [
        "**File handling in Google Colab**"
      ]
    },
    {
      "cell_type": "markdown",
      "metadata": {
        "id": "qlyaCf2vsvWU"
      },
      "source": [
        "## Mounting google drive into Colab"
      ]
    },
    {
      "cell_type": "code",
      "metadata": {
        "colab": {
          "base_uri": "https://localhost:8080/"
        },
        "id": "I2XN0oyDozUX",
        "outputId": "ded74276-9378-4e27-d61d-d023c5d4c817"
      },
      "source": [
        "from google.colab import drive\n",
        "drive.mount('/content/gdrive/',force_remount = True)"
      ],
      "execution_count": 3,
      "outputs": [
        {
          "output_type": "stream",
          "name": "stdout",
          "text": [
            "Mounted at /content/gdrive/\n"
          ]
        }
      ]
    },
    {
      "cell_type": "markdown",
      "metadata": {
        "id": "zr_xVjqmphWd"
      },
      "source": [
        "## List content of directory"
      ]
    },
    {
      "cell_type": "code",
      "metadata": {
        "colab": {
          "base_uri": "https://localhost:8080/"
        },
        "id": "5H8k9wTepeh6",
        "outputId": "5b06021a-8b7c-43f7-dcff-a52e9032a0c0"
      },
      "source": [
        "!ls"
      ],
      "execution_count": 13,
      "outputs": [
        {
          "output_type": "stream",
          "name": "stdout",
          "text": [
            "data.txt  gdrive  sample_data  sample_folder\n"
          ]
        }
      ]
    },
    {
      "cell_type": "code",
      "metadata": {
        "colab": {
          "base_uri": "https://localhost:8080/"
        },
        "id": "HUck9oa9pn9T",
        "outputId": "d7a62201-ffb3-4599-b54c-c78332cbd8fb"
      },
      "source": [
        "!ls -l"
      ],
      "execution_count": 14,
      "outputs": [
        {
          "output_type": "stream",
          "name": "stdout",
          "text": [
            "total 16\n",
            "-rw-r--r-- 1 root root   26 Nov  8 13:06 data.txt\n",
            "drwx------ 5 root root 4096 Nov  8 13:03 gdrive\n",
            "drwxr-xr-x 1 root root 4096 Nov  1 13:35 sample_data\n",
            "drwxr-xr-x 2 root root 4096 Nov  8 13:05 sample_folder\n"
          ]
        }
      ]
    },
    {
      "cell_type": "markdown",
      "metadata": {
        "id": "o09Xhx85pruj"
      },
      "source": [
        "## Create a directory"
      ]
    },
    {
      "cell_type": "code",
      "metadata": {
        "colab": {
          "base_uri": "https://localhost:8080/"
        },
        "id": "g4JbrDawptcX",
        "outputId": "14bc3561-f241-40ba-dba2-0e4b0b5e9a10"
      },
      "source": [
        "mkdir sample_folder"
      ],
      "execution_count": 15,
      "outputs": [
        {
          "output_type": "stream",
          "name": "stdout",
          "text": [
            "mkdir: cannot create directory ‘sample_folder’: File exists\n"
          ]
        }
      ]
    },
    {
      "cell_type": "code",
      "metadata": {
        "colab": {
          "base_uri": "https://localhost:8080/"
        },
        "id": "TiOOI3oepw0e",
        "outputId": "f0e45bd1-e219-45dd-ba1c-4ec6ea4acd08"
      },
      "source": [
        "ls"
      ],
      "execution_count": 16,
      "outputs": [
        {
          "output_type": "stream",
          "name": "stdout",
          "text": [
            "data.txt  \u001b[0m\u001b[01;34mgdrive\u001b[0m/  \u001b[01;34msample_data\u001b[0m/  \u001b[01;34msample_folder\u001b[0m/\n"
          ]
        }
      ]
    },
    {
      "cell_type": "markdown",
      "metadata": {
        "id": "Wye7sLPlp19Z"
      },
      "source": [
        "Create files "
      ]
    },
    {
      "cell_type": "code",
      "metadata": {
        "id": "DmI_MZa4prP6"
      },
      "source": [
        "!echo \"The sample data to check.\" > data.txt"
      ],
      "execution_count": 17,
      "outputs": []
    },
    {
      "cell_type": "code",
      "metadata": {
        "colab": {
          "base_uri": "https://localhost:8080/"
        },
        "id": "JyFXZQw8qDt5",
        "outputId": "009b2b04-d6a7-4567-b018-b1fba5b569a0"
      },
      "source": [
        "ls"
      ],
      "execution_count": 18,
      "outputs": [
        {
          "output_type": "stream",
          "name": "stdout",
          "text": [
            "data.txt  \u001b[0m\u001b[01;34mgdrive\u001b[0m/  \u001b[01;34msample_data\u001b[0m/  \u001b[01;34msample_folder\u001b[0m/\n"
          ]
        }
      ]
    },
    {
      "cell_type": "markdown",
      "metadata": {
        "id": "W3kaz_lhtFCO"
      },
      "source": [
        "## Downloading files from internet"
      ]
    },
    {
      "cell_type": "code",
      "metadata": {
        "colab": {
          "base_uri": "https://localhost:8080/"
        },
        "id": "EKdO_DXwqLi8",
        "outputId": "0e7af402-65a6-4ec2-997a-d8f2099b4d20"
      },
      "source": [
        "! wget https://github.com/Amit32624/dbpedia_prj/blob/master/med_devs_clean_data.csv"
      ],
      "execution_count": 20,
      "outputs": [
        {
          "output_type": "stream",
          "name": "stdout",
          "text": [
            "--2021-11-08 13:20:35--  https://github.com/Amit32624/dbpedia_prj/blob/master/med_devs_clean_data.csv\n",
            "Resolving github.com (github.com)... 140.82.114.3\n",
            "Connecting to github.com (github.com)|140.82.114.3|:443... connected.\n",
            "HTTP request sent, awaiting response... 200 OK\n",
            "Length: unspecified [text/html]\n",
            "Saving to: ‘med_devs_clean_data.csv’\n",
            "\n",
            "med_devs_clean_data     [ <=>                ] 627.32K  --.-KB/s    in 0.06s   \n",
            "\n",
            "2021-11-08 13:20:35 (9.51 MB/s) - ‘med_devs_clean_data.csv’ saved [642378]\n",
            "\n"
          ]
        }
      ]
    },
    {
      "cell_type": "code",
      "metadata": {
        "colab": {
          "base_uri": "https://localhost:8080/"
        },
        "id": "ooq_Mq9ttVjk",
        "outputId": "e5f687db-ac17-43ee-d9d4-327b6fd84900"
      },
      "source": [
        "ls -l"
      ],
      "execution_count": 21,
      "outputs": [
        {
          "output_type": "stream",
          "name": "stdout",
          "text": [
            "total 644\n",
            "-rw-r--r-- 1 root root     26 Nov  8 13:16 data.txt\n",
            "drwx------ 5 root root   4096 Nov  8 13:03 \u001b[0m\u001b[01;34mgdrive\u001b[0m/\n",
            "-rw-r--r-- 1 root root 642378 Nov  8 13:20 med_devs_clean_data.csv\n",
            "drwxr-xr-x 1 root root   4096 Nov  1 13:35 \u001b[01;34msample_data\u001b[0m/\n",
            "drwxr-xr-x 2 root root   4096 Nov  8 13:05 \u001b[01;34msample_folder\u001b[0m/\n"
          ]
        }
      ]
    },
    {
      "cell_type": "markdown",
      "metadata": {
        "id": "uDePO_xwtY9Q"
      },
      "source": [
        "## read files"
      ]
    },
    {
      "cell_type": "code",
      "metadata": {
        "colab": {
          "base_uri": "https://localhost:8080/"
        },
        "id": "-eyHUoCHtXl5",
        "outputId": "09cc6730-15c8-45b5-e892-9cc5bf0bb77c"
      },
      "source": [
        "cat data.txt"
      ],
      "execution_count": 23,
      "outputs": [
        {
          "output_type": "stream",
          "name": "stdout",
          "text": [
            "The sample data to check.\n"
          ]
        }
      ]
    },
    {
      "cell_type": "code",
      "metadata": {
        "colab": {
          "base_uri": "https://localhost:8080/",
          "height": 35
        },
        "id": "ASWBSaUmtsVd",
        "outputId": "8eea3e40-dd6b-4a60-fc60-961ff9c9412a"
      },
      "source": [
        "# reading file in python\n",
        "data = open(\"data.txt\",\"r\")\n",
        "data_con = data.read()\n",
        "data_con"
      ],
      "execution_count": 25,
      "outputs": [
        {
          "output_type": "execute_result",
          "data": {
            "application/vnd.google.colaboratory.intrinsic+json": {
              "type": "string"
            },
            "text/plain": [
              "'The sample data to check.\\n'"
            ]
          },
          "metadata": {},
          "execution_count": 25
        }
      ]
    },
    {
      "cell_type": "markdown",
      "metadata": {
        "id": "JVZkaatlt-L1"
      },
      "source": [
        "## Accessing google drive form google colab"
      ]
    },
    {
      "cell_type": "code",
      "metadata": {
        "colab": {
          "base_uri": "https://localhost:8080/"
        },
        "id": "skEWDilvt93t",
        "outputId": "7b64f8ab-0005-4cac-e71f-9164f3489824"
      },
      "source": [
        "\n",
        "! ls \"/content/gdrive/My Drive/Colab Notebooks/\""
      ],
      "execution_count": 26,
      "outputs": [
        {
          "output_type": "stream",
          "name": "stdout",
          "text": [
            "'affineTransformations (1).ipynb'   DecisionTrees.ipynb\n",
            " affineTransformations.ipynb\t    linear_Algrebra_1.ipynb\n",
            "'autoencoder (1).ipynb'\t\t    LinearRegression_Basics.ipynb\n",
            " autoencoder.ipynb\t\t    Untitled0.ipynb\n",
            "'Copy of Welcome to Colaboratory'   Untitled1.ipynb\n"
          ]
        }
      ]
    },
    {
      "cell_type": "markdown",
      "metadata": {
        "id": "HbuwJLISuK3q"
      },
      "source": [
        "\n",
        "Copy files from Google Drive into your Google Cola"
      ]
    },
    {
      "cell_type": "code",
      "metadata": {
        "colab": {
          "base_uri": "https://localhost:8080/"
        },
        "id": "rwQYpvb_uM2B",
        "outputId": "30a4ad6e-492c-4a40-c69c-b5802058e092"
      },
      "source": [
        "!pwd"
      ],
      "execution_count": 27,
      "outputs": [
        {
          "output_type": "stream",
          "name": "stdout",
          "text": [
            "/content\n"
          ]
        }
      ]
    },
    {
      "cell_type": "code",
      "metadata": {
        "colab": {
          "base_uri": "https://localhost:8080/"
        },
        "id": "OJRbVMDRuczN",
        "outputId": "483c8e4a-c3aa-45db-c562-e15e49bee012"
      },
      "source": [
        "cd \"/content/gdrive/My Drive/Colab Notebooks/\"\n"
      ],
      "execution_count": 34,
      "outputs": [
        {
          "output_type": "stream",
          "name": "stdout",
          "text": [
            "/content/gdrive/My Drive/Colab Notebooks\n"
          ]
        }
      ]
    },
    {
      "cell_type": "code",
      "metadata": {
        "colab": {
          "base_uri": "https://localhost:8080/",
          "height": 35
        },
        "id": "FztxUgVfuuur",
        "outputId": "3d0186b6-d3f3-4618-d49b-28d53662a68d"
      },
      "source": [
        "pwd"
      ],
      "execution_count": 41,
      "outputs": [
        {
          "output_type": "execute_result",
          "data": {
            "application/vnd.google.colaboratory.intrinsic+json": {
              "type": "string"
            },
            "text/plain": [
              "'/content'"
            ]
          },
          "metadata": {},
          "execution_count": 41
        }
      ]
    },
    {
      "cell_type": "markdown",
      "metadata": {
        "id": "OjHs-Y7nuMhs"
      },
      "source": [
        ""
      ]
    }
  ]
}